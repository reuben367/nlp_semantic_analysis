{
 "cells": [
  {
   "cell_type": "code",
   "execution_count": 2,
   "metadata": {},
   "outputs": [
    {
     "data": {
      "text/plain": [
       "<spacytextblob.spacytextblob.SpacyTextBlob at 0x2e005b3e3d0>"
      ]
     },
     "execution_count": 2,
     "metadata": {},
     "output_type": "execute_result"
    }
   ],
   "source": [
    "import spacy\n",
    "import pandas as pd\n",
    "from spacytextblob.spacytextblob import SpacyTextBlob\n",
    "\n",
    "nlp = spacy.load('en_core_web_md')\n",
    "nlp.add_pipe('spacytextblob')\n",
    "\n"
   ]
  },
  {
   "cell_type": "code",
   "execution_count": 3,
   "metadata": {},
   "outputs": [
    {
     "name": "stdout",
     "output_type": "stream",
     "text": [
      "                     id             dateAdded           dateUpdated  \\\n",
      "0  AVpgNzjwLJeJML43Kpxn  2015-10-30T08:59:32Z  2019-04-25T09:08:16Z   \n",
      "1  AVpgNzjwLJeJML43Kpxn  2015-10-30T08:59:32Z  2019-04-25T09:08:16Z   \n",
      "2  AVpgNzjwLJeJML43Kpxn  2015-10-30T08:59:32Z  2019-04-25T09:08:16Z   \n",
      "3  AVpgNzjwLJeJML43Kpxn  2015-10-30T08:59:32Z  2019-04-25T09:08:16Z   \n",
      "4  AVpgNzjwLJeJML43Kpxn  2015-10-30T08:59:32Z  2019-04-25T09:08:16Z   \n",
      "\n",
      "                                                name                  asins  \\\n",
      "0  AmazonBasics AAA Performance Alkaline Batterie...  B00QWO9P0O,B00LH3DMUO   \n",
      "1  AmazonBasics AAA Performance Alkaline Batterie...  B00QWO9P0O,B00LH3DMUO   \n",
      "2  AmazonBasics AAA Performance Alkaline Batterie...  B00QWO9P0O,B00LH3DMUO   \n",
      "3  AmazonBasics AAA Performance Alkaline Batterie...  B00QWO9P0O,B00LH3DMUO   \n",
      "4  AmazonBasics AAA Performance Alkaline Batterie...  B00QWO9P0O,B00LH3DMUO   \n",
      "\n",
      "          brand                                         categories  \\\n",
      "0  Amazonbasics  AA,AAA,Health,Electronics,Health & Household,C...   \n",
      "1  Amazonbasics  AA,AAA,Health,Electronics,Health & Household,C...   \n",
      "2  Amazonbasics  AA,AAA,Health,Electronics,Health & Household,C...   \n",
      "3  Amazonbasics  AA,AAA,Health,Electronics,Health & Household,C...   \n",
      "4  Amazonbasics  AA,AAA,Health,Electronics,Health & Household,C...   \n",
      "\n",
      "  primaryCategories                                          imageURLs  \\\n",
      "0   Health & Beauty  https://images-na.ssl-images-amazon.com/images...   \n",
      "1   Health & Beauty  https://images-na.ssl-images-amazon.com/images...   \n",
      "2   Health & Beauty  https://images-na.ssl-images-amazon.com/images...   \n",
      "3   Health & Beauty  https://images-na.ssl-images-amazon.com/images...   \n",
      "4   Health & Beauty  https://images-na.ssl-images-amazon.com/images...   \n",
      "\n",
      "                                                keys  ... reviews.didPurchase  \\\n",
      "0  amazonbasics/hl002619,amazonbasicsaaaperforman...  ...                 NaN   \n",
      "1  amazonbasics/hl002619,amazonbasicsaaaperforman...  ...                 NaN   \n",
      "2  amazonbasics/hl002619,amazonbasicsaaaperforman...  ...                 NaN   \n",
      "3  amazonbasics/hl002619,amazonbasicsaaaperforman...  ...                 NaN   \n",
      "4  amazonbasics/hl002619,amazonbasicsaaaperforman...  ...                 NaN   \n",
      "\n",
      "  reviews.doRecommend reviews.id reviews.numHelpful reviews.rating  \\\n",
      "0                 NaN        NaN                NaN              3   \n",
      "1                 NaN        NaN                NaN              4   \n",
      "2                 NaN        NaN                NaN              5   \n",
      "3                 NaN        NaN                NaN              5   \n",
      "4                 NaN        NaN                NaN              5   \n",
      "\n",
      "                                  reviews.sourceURLs  \\\n",
      "0  https://www.amazon.com/product-reviews/B00QWO9...   \n",
      "1  https://www.amazon.com/product-reviews/B00QWO9...   \n",
      "2  https://www.amazon.com/product-reviews/B00QWO9...   \n",
      "3  https://www.amazon.com/product-reviews/B00QWO9...   \n",
      "4  https://www.amazon.com/product-reviews/B00QWO9...   \n",
      "\n",
      "                                        reviews.text  \\\n",
      "0  I order 3 of them and one of the item is bad q...   \n",
      "1  Bulk is always the less expensive way to go fo...   \n",
      "2  Well they are not Duracell but for the price i...   \n",
      "3  Seem to work as well as name brand batteries a...   \n",
      "4  These batteries are very long lasting the pric...   \n",
      "\n",
      "                                       reviews.title  reviews.username  \\\n",
      "0  ... 3 of them and one of the item is bad quali...        Byger yang   \n",
      "1  ... always the less expensive way to go for pr...              ByMG   \n",
      "2  ... are not Duracell but for the price i am ha...  BySharon Lambert   \n",
      "3  ... as well as name brand batteries at a much ...     Bymark sexson   \n",
      "4  ... batteries are very long lasting the price ...           Bylinda   \n",
      "\n",
      "                                          sourceURLs  \n",
      "0  https://www.barcodable.com/upc/841710106442,ht...  \n",
      "1  https://www.barcodable.com/upc/841710106442,ht...  \n",
      "2  https://www.barcodable.com/upc/841710106442,ht...  \n",
      "3  https://www.barcodable.com/upc/841710106442,ht...  \n",
      "4  https://www.barcodable.com/upc/841710106442,ht...  \n",
      "\n",
      "[5 rows x 24 columns]\n"
     ]
    }
   ],
   "source": [
    "# read in df\n",
    "df = pd.read_csv('amazon_product_reviews.csv', sep = ',')\n",
    "print(df.head(5))"
   ]
  },
  {
   "cell_type": "code",
   "execution_count": 6,
   "metadata": {},
   "outputs": [
    {
     "name": "stdout",
     "output_type": "stream",
     "text": [
      "<class 'pandas.core.frame.DataFrame'>\n",
      "RangeIndex: 28332 entries, 0 to 28331\n",
      "Data columns (total 24 columns):\n",
      " #   Column               Non-Null Count  Dtype  \n",
      "---  ------               --------------  -----  \n",
      " 0   id                   28332 non-null  object \n",
      " 1   dateAdded            28332 non-null  object \n",
      " 2   dateUpdated          28332 non-null  object \n",
      " 3   name                 28332 non-null  object \n",
      " 4   asins                28332 non-null  object \n",
      " 5   brand                28332 non-null  object \n",
      " 6   categories           28332 non-null  object \n",
      " 7   primaryCategories    28332 non-null  object \n",
      " 8   imageURLs            28332 non-null  object \n",
      " 9   keys                 28332 non-null  object \n",
      " 10  manufacturer         28332 non-null  object \n",
      " 11  manufacturerNumber   28332 non-null  object \n",
      " 12  reviews.date         28332 non-null  object \n",
      " 13  reviews.dateSeen     28332 non-null  object \n",
      " 14  reviews.didPurchase  9 non-null      object \n",
      " 15  reviews.doRecommend  16086 non-null  object \n",
      " 16  reviews.id           41 non-null     float64\n",
      " 17  reviews.numHelpful   16115 non-null  float64\n",
      " 18  reviews.rating       28332 non-null  int64  \n",
      " 19  reviews.sourceURLs   28332 non-null  object \n",
      " 20  reviews.text         28332 non-null  object \n",
      " 21  reviews.title        28332 non-null  object \n",
      " 22  reviews.username     28327 non-null  object \n",
      " 23  sourceURLs           28332 non-null  object \n",
      "dtypes: float64(2), int64(1), object(21)\n",
      "memory usage: 5.2+ MB\n",
      "<class 'pandas.core.series.Series'>\n",
      "RangeIndex: 28332 entries, 0 to 28331\n",
      "Series name: reviews.text\n",
      "Non-Null Count  Dtype \n",
      "--------------  ----- \n",
      "28332 non-null  object\n",
      "dtypes: object(1)\n",
      "memory usage: 221.5+ KB\n",
      "Number of unique products 65\n"
     ]
    }
   ],
   "source": [
    "# get info on dataset\n",
    "df.info()\n",
    "df[\"reviews.text\"].info()\n",
    "print(f\"Number of unique products {df['name'].nunique()}\")\n"
   ]
  },
  {
   "cell_type": "code",
   "execution_count": 7,
   "metadata": {},
   "outputs": [
    {
     "name": "stdout",
     "output_type": "stream",
     "text": [
      "number of null entries: 0\n",
      "<class 'pandas.core.series.Series'>\n",
      "RangeIndex: 28332 entries, 0 to 28331\n",
      "Series name: reviews.text\n",
      "Non-Null Count  Dtype \n",
      "--------------  ----- \n",
      "28332 non-null  object\n",
      "dtypes: object(1)\n",
      "memory usage: 221.5+ KB\n"
     ]
    }
   ],
   "source": [
    "# create reviews df that only contains reviews column, remove any null values\n",
    "review_df = df[\"reviews.text\"]\n",
    "print(f\"number of null entries: {review_df.isnull().sum()}\")\n",
    "review_df.info()\n"
   ]
  },
  {
   "cell_type": "code",
   "execution_count": 8,
   "metadata": {},
   "outputs": [
    {
     "data": {
      "text/plain": [
       "0        I order 3 of them and one of the item is bad q...\n",
       "1        Bulk is always the less expensive way to go fo...\n",
       "2        Well they are not Duracell but for the price i...\n",
       "3        Seem to work as well as name brand batteries a...\n",
       "4        These batteries are very long lasting the pric...\n",
       "                               ...                        \n",
       "28327    I got 2 of these for my 8 yr old twins. My 11 ...\n",
       "28328    I bought this for my niece for a Christmas gif...\n",
       "28329    Very nice for light internet browsing, keeping...\n",
       "28330    This Tablet does absolutely everything I want!...\n",
       "28331    At ninety dollars, the expectionations are low...\n",
       "Name: reviews.text, Length: 28332, dtype: object"
      ]
     },
     "execution_count": 8,
     "metadata": {},
     "output_type": "execute_result"
    }
   ],
   "source": [
    "# drop na\n",
    "review_df_clean = review_df.dropna()\n",
    "review_df_clean"
   ]
  },
  {
   "cell_type": "code",
   "execution_count": 7,
   "metadata": {},
   "outputs": [
    {
     "data": {
      "text/plain": [
       "'Bulk is always the less expensive way to go for products like these'"
      ]
     },
     "execution_count": 7,
     "metadata": {},
     "output_type": "execute_result"
    }
   ],
   "source": [
    "review_df_clean[1]"
   ]
  },
  {
   "cell_type": "code",
   "execution_count": 10,
   "metadata": {},
   "outputs": [],
   "source": [
    "# make each review into a spacy doc\n",
    "\n",
    "doc_list = []\n",
    "for index, sentence in enumerate(review_df_clean):\n",
    "    sentence = sentence.strip()\n",
    "    sentence = sentence.lower()\n",
    "    doc = nlp(sentence)\n",
    "    doc_list.append(doc)\n"
   ]
  },
  {
   "cell_type": "code",
   "execution_count": 11,
   "metadata": {},
   "outputs": [
    {
     "name": "stdout",
     "output_type": "stream",
     "text": [
      "i order 3 of them and one of the item is bad quality. is missing backup spring so i have to put a pcs of aluminum to make the battery work.\n",
      "bulk is always the less expensive way to go for products like these\n",
      "well they are not duracell but for the price i am happy.\n",
      "seem to work as well as name brand batteries at a much better price\n",
      "these batteries are very long lasting the price is great.\n"
     ]
    }
   ],
   "source": [
    "# check first 5 docs\n",
    "for doc in doc_list[0:5]:\n",
    "    print(doc)"
   ]
  },
  {
   "cell_type": "code",
   "execution_count": 12,
   "metadata": {},
   "outputs": [],
   "source": [
    "# tokenize each review\n",
    "token_list = []\n",
    "for doc in doc_list:\n",
    "    tokenized_sentence = [token.text for token in doc if not token.is_punct | token.is_space | token.is_stop ]\n",
    "    sentence_text = ' '.join(tokenized_sentence)\n",
    "    tokenized_sentence_text = nlp(sentence_text)\n",
    "    token_list.append(tokenized_sentence_text)"
   ]
  },
  {
   "cell_type": "code",
   "execution_count": 13,
   "metadata": {},
   "outputs": [
    {
     "name": "stdout",
     "output_type": "stream",
     "text": [
      "order 3 item bad quality missing backup spring pcs aluminum battery work\n",
      "bulk expensive way products like\n",
      "duracell price happy\n",
      "work brand batteries better price\n",
      "batteries long lasting price great\n"
     ]
    }
   ],
   "source": [
    "# check first 5 docs\n",
    "for token in token_list[0:5]:\n",
    "    print(token)"
   ]
  },
  {
   "cell_type": "code",
   "execution_count": 21,
   "metadata": {},
   "outputs": [
    {
     "name": "stdout",
     "output_type": "stream",
     "text": [
      "order 3 item bad quality missing backup spring pcs aluminum battery work\n",
      "Polarity score: -0.45\n",
      "Subjectivity score: 0.36\n",
      "\n",
      "bulk expensive way products like\n",
      "Polarity score: -0.5\n",
      "Subjectivity score: 0.7\n",
      "\n",
      "duracell price happy\n",
      "Polarity score: 0.8\n",
      "Subjectivity score: 1.0\n",
      "\n",
      "work brand batteries better price\n",
      "Polarity score: 0.5\n",
      "Subjectivity score: 0.5\n",
      "\n",
      "batteries long lasting price great\n",
      "Polarity score: 0.25\n",
      "Subjectivity score: 0.38\n",
      "\n"
     ]
    }
   ],
   "source": [
    "# test sentiment score \n",
    "\n",
    "# test_doc = token_list[0]\n",
    "# print(test_doc)\n",
    "for sentence in token_list[0:5]:\n",
    "    sentiment = sentence._.blob.sentiment\n",
    "    polarity = round(sentiment.polarity,2)\n",
    "    subjectivity = round(sentiment.subjectivity,2)\n",
    "    print(sentence)\n",
    "    print(f\"Polarity score: {polarity}\")\n",
    "    print(f\"Subjectivity score: {subjectivity}\")\n",
    "    print()\n",
    "\n",
    "\n"
   ]
  },
  {
   "cell_type": "code",
   "execution_count": 19,
   "metadata": {},
   "outputs": [],
   "source": [
    "# sentiment for all data\n",
    "polarity_list = []\n",
    "subjectivity_list = []\n",
    "for sentence in token_list:\n",
    "    sentiment = sentence._.blob.sentiment\n",
    "    polarity = round(sentiment.polarity,2)\n",
    "    subjectivity = round(sentiment.subjectivity,2)\n",
    "    polarity_list.append(polarity)\n",
    "    subjectivity_list.append(subjectivity)\n",
    "\n",
    "\n",
    "    "
   ]
  },
  {
   "cell_type": "code",
   "execution_count": 20,
   "metadata": {},
   "outputs": [
    {
     "data": {
      "text/html": [
       "<div>\n",
       "<style scoped>\n",
       "    .dataframe tbody tr th:only-of-type {\n",
       "        vertical-align: middle;\n",
       "    }\n",
       "\n",
       "    .dataframe tbody tr th {\n",
       "        vertical-align: top;\n",
       "    }\n",
       "\n",
       "    .dataframe thead th {\n",
       "        text-align: right;\n",
       "    }\n",
       "</style>\n",
       "<table border=\"1\" class=\"dataframe\">\n",
       "  <thead>\n",
       "    <tr style=\"text-align: right;\">\n",
       "      <th></th>\n",
       "      <th>Review tokens</th>\n",
       "      <th>Polarity</th>\n",
       "      <th>Subjectivity</th>\n",
       "    </tr>\n",
       "  </thead>\n",
       "  <tbody>\n",
       "    <tr>\n",
       "      <th>95</th>\n",
       "      <td>(buy, amazonbasics, comes, batteries, long, la...</td>\n",
       "      <td>0.33</td>\n",
       "      <td>0.57</td>\n",
       "    </tr>\n",
       "    <tr>\n",
       "      <th>96</th>\n",
       "      <td>(leappads, xbox, controllers, remotes, use, ba...</td>\n",
       "      <td>0.80</td>\n",
       "      <td>0.75</td>\n",
       "    </tr>\n",
       "    <tr>\n",
       "      <th>97</th>\n",
       "      <td>(buy, batteries, great, long, lasting, batteries)</td>\n",
       "      <td>0.25</td>\n",
       "      <td>0.38</td>\n",
       "    </tr>\n",
       "    <tr>\n",
       "      <th>98</th>\n",
       "      <td>(know, crazy, cheap, batteries, light, practic...</td>\n",
       "      <td>0.24</td>\n",
       "      <td>0.86</td>\n",
       "    </tr>\n",
       "    <tr>\n",
       "      <th>99</th>\n",
       "      <td>(ps3, remote, control, television, remote, con...</td>\n",
       "      <td>0.00</td>\n",
       "      <td>0.20</td>\n",
       "    </tr>\n",
       "  </tbody>\n",
       "</table>\n",
       "</div>"
      ],
      "text/plain": [
       "                                        Review tokens  Polarity  Subjectivity\n",
       "95  (buy, amazonbasics, comes, batteries, long, la...      0.33          0.57\n",
       "96  (leappads, xbox, controllers, remotes, use, ba...      0.80          0.75\n",
       "97  (buy, batteries, great, long, lasting, batteries)      0.25          0.38\n",
       "98  (know, crazy, cheap, batteries, light, practic...      0.24          0.86\n",
       "99  (ps3, remote, control, television, remote, con...      0.00          0.20"
      ]
     },
     "execution_count": 20,
     "metadata": {},
     "output_type": "execute_result"
    }
   ],
   "source": [
    "# calculate sentiment for all reviews, store in a pandas df\n",
    "data = pd.DataFrame( {'Review tokens' : token_list, 'Polarity': polarity_list, 'Subjectivity': subjectivity_list, })\n",
    "data.tail(5)"
   ]
  },
  {
   "cell_type": "code",
   "execution_count": 51,
   "metadata": {},
   "outputs": [
    {
     "data": {
      "text/plain": [
       "<function matplotlib.pyplot.show(close=None, block=None)>"
      ]
     },
     "execution_count": 51,
     "metadata": {},
     "output_type": "execute_result"
    },
    {
     "data": {
      "image/png": "[encoded data removed]",
      "text/plain": [
       "<Figure size 640x480 with 1 Axes>"
      ]
     },
     "metadata": {},
     "output_type": "display_data"
    }
   ],
   "source": [
    "import matplotlib.pyplot as plt\n",
    "\n",
    "plt.hist(data[\"Polarity\"], bins = 100)\n",
    "plt.xlabel('Polarity')\n",
    "plt.ylabel('Frequency')\n",
    "plt.title('Polarity of reviews')\n",
    "plt.show   "
   ]
  },
  {
   "cell_type": "code",
   "execution_count": 32,
   "metadata": {},
   "outputs": [
    {
     "data": {
      "text/plain": [
       "<function matplotlib.pyplot.show(close=None, block=None)>"
      ]
     },
     "execution_count": 32,
     "metadata": {},
     "output_type": "execute_result"
    },
    {
     "data": {
      "image/png": "[encoded data removed]",
      "text/plain": [
       "<Figure size 640x480 with 1 Axes>"
      ]
     },
     "metadata": {},
     "output_type": "display_data"
    }
   ],
   "source": [
    "plt.hist(data[\"Subjectivity\"], bins = 100)\n",
    "plt.xlabel('Subjectivity')\n",
    "plt.ylabel('Frequency')\n",
    "plt.title('Subjectivity of reviews')\n",
    "plt.show "
   ]
  },
  {
   "cell_type": "code",
   "execution_count": 50,
   "metadata": {},
   "outputs": [
    {
     "data": {
      "text/plain": [
       "<function matplotlib.pyplot.show(close=None, block=None)>"
      ]
     },
     "execution_count": 50,
     "metadata": {},
     "output_type": "execute_result"
    },
    {
     "data": {
      "image/png": "[encoded data removed]",
      "text/plain": [
       "<Figure size 640x480 with 1 Axes>"
      ]
     },
     "metadata": {},
     "output_type": "display_data"
    }
   ],
   "source": [
    "# review rating analysis\n",
    "  \n",
    "plt.hist(df[\"reviews.rating\"], bins = 5)\n",
    "plt.xlabel('Rating')\n",
    "plt.ylabel('Frequency')\n",
    "plt.title('Star rating of reviews')\n",
    "plt.show "
   ]
  }
 ],
 "metadata": {
  "kernelspec": {
   "display_name": "Python 3",
   "language": "python",
   "name": "python3"
  },
  "language_info": {
   "codemirror_mode": {
    "name": "ipython",
    "version": 3
   },
   "file_extension": ".py",
   "mimetype": "text/x-python",
   "name": "python",
   "nbconvert_exporter": "python",
   "pygments_lexer": "ipython3",
   "version": "3.11.5"
  }
 },
 "nbformat": 4,
 "nbformat_minor": 2
}
